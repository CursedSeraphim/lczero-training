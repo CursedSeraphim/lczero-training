{
 "cells": [
  {
   "cell_type": "code",
   "execution_count": 1,
   "id": "117b151c",
   "metadata": {},
   "outputs": [],
   "source": [
    "import torch as th\n",
    "import numpy as np\n",
    "import pandas as pd\n",
    "from matplotlib import pyplot as plt\n",
    "from openTSNE import TSNE\n",
    "from openTSNE.callbacks import ErrorApproximations\n",
    "\n",
    "csvs_dir = '../csvs/'\n",
    "file_path='D:\\\\steini\\\\chess\\\\lczero-training\\\\tsne\\\\outputs\\\\'"
   ]
  },
  {
   "cell_type": "markdown",
   "id": "b7da331a",
   "metadata": {},
   "source": [
    "## Get all files from csvs folder"
   ]
  },
  {
   "cell_type": "code",
   "execution_count": 2,
   "id": "088ed1c3",
   "metadata": {},
   "outputs": [
    {
     "name": "stdout",
     "output_type": "stream",
     "text": [
      "../csvs\\a0sf_value-dense2.csv\n",
      "../csvs\\a0sf_activation_2.csv\n",
      "../csvs\\a0sf_value-dense1.csv\n",
      "../csvs\\a0sf_moves_left-dense1.csv\n",
      "../csvs\\a0sf_activation_33.csv\n",
      "../csvs\\a0sf_flatten_1.csv\n",
      "../csvs\\a0sf_activation_32.csv\n",
      "../csvs\\a0sf_flatten.csv\n",
      "../csvs\\a0sf_apply_policy_map_2.csv\n",
      "../csvs\\lc0_inputs.csv\n",
      "../csvs\\a0sf_activation.csv\n",
      "../csvs\\a0sf_activation_1.csv\n",
      "../csvs\\a0sf_activation_3.csv\n",
      "../csvs\\a0sf_activation_31.csv\n",
      "../csvs\\a0sf_policy.csv\n"
     ]
    },
    {
     "data": {
      "text/plain": [
       "[None,\n",
       " None,\n",
       " None,\n",
       " None,\n",
       " None,\n",
       " None,\n",
       " None,\n",
       " None,\n",
       " None,\n",
       " None,\n",
       " None,\n",
       " None,\n",
       " None,\n",
       " None,\n",
       " None]"
      ]
     },
     "execution_count": 2,
     "metadata": {},
     "output_type": "execute_result"
    }
   ],
   "source": [
    "import os\n",
    "import glob\n",
    "\n",
    "# Get a list of files (file paths) in the given directory \n",
    "files_list = filter( os.path.isfile,\n",
    "                        glob.glob(csvs_dir + '*.csv') )\n",
    "# Sort list of files in directory by size \n",
    "files_list = sorted( files_list,\n",
    "                        key =  lambda x: os.stat(x).st_size)\n",
    "        \n",
    "[print(f) for f in files_list]"
   ]
  },
  {
   "cell_type": "markdown",
   "id": "eff6a6a6",
   "metadata": {},
   "source": [
    "## Prepare function for tsne hyperparameter search and saving csv/png"
   ]
  },
  {
   "cell_type": "code",
   "execution_count": 3,
   "id": "0f56cb7e",
   "metadata": {},
   "outputs": [],
   "source": [
    "def run_tsne(data, path, perplexity=30, lr='auto', n_iter=500):\n",
    "    # tsne object\n",
    "    reducer = TSNE(\n",
    "    perplexity=perplexity,\n",
    "    learning_rate=lr,\n",
    "    n_iter=n_iter,\n",
    "    n_jobs=6,\n",
    "    metric='euclidean',\n",
    "    random_state=42\n",
    "    )\n",
    "    \n",
    "    # prepare paths for saving csv and png\n",
    "    path = path.replace('.csv', '')\n",
    "    csv_path = path + '_perpl' + str(perplexity) + '_lr' + str(reducer.learning_rate) + '_n_iter' + str(n_iter) + '.csv'\n",
    "    png_path = csv_path.replace('.csv', '.png')\n",
    "    \n",
    "    # prepare (pca)\n",
    "    reducer.prepare_initial(X=data, initialization='pca')\n",
    "    \n",
    "    # tsne fit transform\n",
    "    tsne_embedding = reducer.fit(data, initialization='pca')\n",
    "    \n",
    "    tsne_df = pd.DataFrame(tsne_embedding)\n",
    "    tsne_df.to_csv(csv_path)\n",
    "    \n",
    "    plt.figure(figsize=(16,12))\n",
    "    plt.scatter(tsne_embedding[:,0], tsne_embedding[:,1])\n",
    "    print('storing plot to', png_path)\n",
    "    plt.savefig(png_path)\n",
    "    plt.close()"
   ]
  },
  {
   "cell_type": "markdown",
   "id": "48833e43",
   "metadata": {},
   "source": [
    "## Iterate all files, create df, prepare umap, run hparam search, store csvs and pngs"
   ]
  },
  {
   "cell_type": "code",
   "execution_count": null,
   "id": "e4e5cc93",
   "metadata": {},
   "outputs": [
    {
     "name": "stdout",
     "output_type": "stream",
     "text": [
      "loading ../csvs\\a0sf_value-dense2.csv\n",
      "running tsne on D:\\steini\\chess\\lczero-training\\tsne\\outputs\\\\a0sf_value-dense2\n",
      "storing plot to D:\\steini\\chess\\lczero-training\\tsne\\outputs\\\\a0sf_value-dense2_perpl30_lrauto_n_iter1000.png\n",
      "running tsne on D:\\steini\\chess\\lczero-training\\tsne\\outputs\\\\a0sf_value-dense2\n",
      "storing plot to D:\\steini\\chess\\lczero-training\\tsne\\outputs\\\\a0sf_value-dense2_perpl169.04141504376966_lrauto_n_iter1000.png\n",
      "loading ../csvs\\a0sf_activation_2.csv\n",
      "running tsne on D:\\steini\\chess\\lczero-training\\tsne\\outputs\\\\a0sf_activation_2\n",
      "storing plot to D:\\steini\\chess\\lczero-training\\tsne\\outputs\\\\a0sf_activation_2_perpl30_lrauto_n_iter1000.png\n",
      "running tsne on D:\\steini\\chess\\lczero-training\\tsne\\outputs\\\\a0sf_activation_2\n",
      "storing plot to D:\\steini\\chess\\lczero-training\\tsne\\outputs\\\\a0sf_activation_2_perpl169.04141504376966_lrauto_n_iter1000.png\n",
      "loading ../csvs\\a0sf_value-dense1.csv\n",
      "running tsne on D:\\steini\\chess\\lczero-training\\tsne\\outputs\\\\a0sf_value-dense1\n",
      "storing plot to D:\\steini\\chess\\lczero-training\\tsne\\outputs\\\\a0sf_value-dense1_perpl30_lrauto_n_iter1000.png\n",
      "running tsne on D:\\steini\\chess\\lczero-training\\tsne\\outputs\\\\a0sf_value-dense1\n",
      "storing plot to D:\\steini\\chess\\lczero-training\\tsne\\outputs\\\\a0sf_value-dense1_perpl169.04141504376966_lrauto_n_iter1000.png\n",
      "loading ../csvs\\a0sf_moves_left-dense1.csv\n",
      "running tsne on D:\\steini\\chess\\lczero-training\\tsne\\outputs\\\\a0sf_moves_left-dense1\n",
      "storing plot to D:\\steini\\chess\\lczero-training\\tsne\\outputs\\\\a0sf_moves_left-dense1_perpl30_lrauto_n_iter1000.png\n",
      "running tsne on D:\\steini\\chess\\lczero-training\\tsne\\outputs\\\\a0sf_moves_left-dense1\n",
      "storing plot to D:\\steini\\chess\\lczero-training\\tsne\\outputs\\\\a0sf_moves_left-dense1_perpl169.04141504376966_lrauto_n_iter1000.png\n",
      "loading ../csvs\\a0sf_activation_33.csv\n",
      "running tsne on D:\\steini\\chess\\lczero-training\\tsne\\outputs\\\\a0sf_activation_33\n",
      "storing plot to D:\\steini\\chess\\lczero-training\\tsne\\outputs\\\\a0sf_activation_33_perpl30_lrauto_n_iter1000.png\n",
      "running tsne on D:\\steini\\chess\\lczero-training\\tsne\\outputs\\\\a0sf_activation_33\n",
      "storing plot to D:\\steini\\chess\\lczero-training\\tsne\\outputs\\\\a0sf_activation_33_perpl169.04141504376966_lrauto_n_iter1000.png\n",
      "loading ../csvs\\a0sf_flatten_1.csv\n",
      "running tsne on D:\\steini\\chess\\lczero-training\\tsne\\outputs\\\\a0sf_flatten_1\n",
      "storing plot to D:\\steini\\chess\\lczero-training\\tsne\\outputs\\\\a0sf_flatten_1_perpl30_lrauto_n_iter1000.png\n",
      "running tsne on D:\\steini\\chess\\lczero-training\\tsne\\outputs\\\\a0sf_flatten_1\n",
      "storing plot to D:\\steini\\chess\\lczero-training\\tsne\\outputs\\\\a0sf_flatten_1_perpl169.04141504376966_lrauto_n_iter1000.png\n",
      "loading ../csvs\\a0sf_activation_32.csv\n",
      "running tsne on D:\\steini\\chess\\lczero-training\\tsne\\outputs\\\\a0sf_activation_32\n",
      "storing plot to D:\\steini\\chess\\lczero-training\\tsne\\outputs\\\\a0sf_activation_32_perpl30_lrauto_n_iter1000.png\n",
      "running tsne on D:\\steini\\chess\\lczero-training\\tsne\\outputs\\\\a0sf_activation_32\n",
      "storing plot to D:\\steini\\chess\\lczero-training\\tsne\\outputs\\\\a0sf_activation_32_perpl169.04141504376966_lrauto_n_iter1000.png\n",
      "loading ../csvs\\a0sf_flatten.csv\n",
      "running tsne on D:\\steini\\chess\\lczero-training\\tsne\\outputs\\\\a0sf_flatten\n",
      "storing plot to D:\\steini\\chess\\lczero-training\\tsne\\outputs\\\\a0sf_flatten_perpl30_lrauto_n_iter1000.png\n",
      "running tsne on D:\\steini\\chess\\lczero-training\\tsne\\outputs\\\\a0sf_flatten\n"
     ]
    }
   ],
   "source": [
    "for f in files_list:\n",
    "    print('loading',f)\n",
    "    df = pd.read_csv(f)\n",
    "    # create tensor w/o idx col\n",
    "    loaded_x = th.tensor(df.values[:,1:])\n",
    "    f = f[7:]\n",
    "    \n",
    "    \n",
    "    for perplexity in [30, np.sqrt(len(loaded_x))]:\n",
    "        path = file_path+f\n",
    "        path = path.replace('.csv', '')\n",
    "        try:\n",
    "            print('running tsne on', path)\n",
    "            run_tsne(data=loaded_x, path=path, perplexity=perplexity, n_iter=1000)\n",
    "        except Exception as e:\n",
    "            print(f, 'failed:', e)"
   ]
  }
 ],
 "metadata": {
  "kernelspec": {
   "display_name": "Python 3",
   "language": "python",
   "name": "python3"
  },
  "language_info": {
   "codemirror_mode": {
    "name": "ipython",
    "version": 3
   },
   "file_extension": ".py",
   "mimetype": "text/x-python",
   "name": "python",
   "nbconvert_exporter": "python",
   "pygments_lexer": "ipython3",
   "version": "3.8.8"
  }
 },
 "nbformat": 4,
 "nbformat_minor": 5
}
